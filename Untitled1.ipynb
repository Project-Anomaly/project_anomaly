{
 "cells": [
  {
   "cell_type": "code",
   "execution_count": null,
   "id": "0f351e4b-2506-4049-9f33-f9924974edd4",
   "metadata": {},
   "outputs": [],
   "source": [
    "| Date Time        | Type| Description  |      \n",
    "| :----------------: | :------: | ----: || :----------------: | :------: | ----: |\n",
    "| Date | Date Time | This feature provides the exact day of access. \n",
    "|  Timestamp      |  Date Time   | This feature provides the exact moments of access and can be useful for time series analysis.|\n",
    "| Webpage Accessed      String    |   True   | 23.99 |\n",
    "| User_Id        |  False   | 19.99 |\n",
    "| Cohort Id |  False   | 42.99 |\n",
    "| Ip Adress  | :------: | ----: |\n"
   ]
  },
  {
   "cell_type": "code",
   "execution_count": null,
   "id": "3e80a3fe-0eb1-46d9-9610-756dfa56f40b",
   "metadata": {},
   "outputs": [],
   "source": [
    "{'2018-01-26': 'Date', '09:55:03\t': 'timestamp', '/': 'Webpage_accessed', '1' : 'user_Id', '8' : 'Cohort_Id', '97.105.19.61' :'IP_adress'})\n",
    "df.head()"
   ]
  }
 ],
 "metadata": {
  "kernelspec": {
   "display_name": "Python 3 (ipykernel)",
   "language": "python",
   "name": "python3"
  },
  "language_info": {
   "codemirror_mode": {
    "name": "ipython",
    "version": 3
   },
   "file_extension": ".py",
   "mimetype": "text/x-python",
   "name": "python",
   "nbconvert_exporter": "python",
   "pygments_lexer": "ipython3",
   "version": "3.10.12"
  }
 },
 "nbformat": 4,
 "nbformat_minor": 5
}
