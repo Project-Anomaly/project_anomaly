{
 "cells": [
  {
   "cell_type": "code",
   "execution_count": 1,
   "id": "2c62e220-2e1e-453f-b4e7-7e6d445e227e",
   "metadata": {},
   "outputs": [],
   "source": [
    "import warnings\n",
    "warnings.filterwarnings(\"ignore\")\n",
    "\n",
    "import matplotlib.pyplot as plt\n",
    "import seaborn as sns\n",
    "import numpy as np\n",
    "import pandas as pd\n",
    "import os\n",
    "import itertools\n",
    "\n",
    "# DBSCAN import\n",
    "from sklearn.cluster import DBSCAN\n",
    "\n",
    "# Scaler import\n",
    "from sklearn.preprocessing import MinMaxScaler"
   ]
  },
  {
   "cell_type": "code",
   "execution_count": 2,
   "id": "0bd3e1d9-6402-46f7-9921-fb3c584f598b",
   "metadata": {},
   "outputs": [],
   "source": [
    "# Loading a few lines of the file to understand its structure\n",
    "file_path = 'anonymized-curriculum-access.txt'\n"
   ]
  },
  {
   "cell_type": "code",
   "execution_count": 3,
   "id": "0e0ce49c-af0c-4f84-b62e-386b2ab77c45",
   "metadata": {},
   "outputs": [],
   "source": [
    "df = pd.read_csv(file_path, sep=' ')"
   ]
  },
  {
   "cell_type": "code",
   "execution_count": 4,
   "id": "3848403f-9ff5-433e-b118-f1cb0d5e591f",
   "metadata": {},
   "outputs": [
    {
     "data": {
      "text/html": [
       "<div>\n",
       "<style scoped>\n",
       "    .dataframe tbody tr th:only-of-type {\n",
       "        vertical-align: middle;\n",
       "    }\n",
       "\n",
       "    .dataframe tbody tr th {\n",
       "        vertical-align: top;\n",
       "    }\n",
       "\n",
       "    .dataframe thead th {\n",
       "        text-align: right;\n",
       "    }\n",
       "</style>\n",
       "<table border=\"1\" class=\"dataframe\">\n",
       "  <thead>\n",
       "    <tr style=\"text-align: right;\">\n",
       "      <th></th>\n",
       "      <th>2018-01-26</th>\n",
       "      <th>09:55:03</th>\n",
       "      <th>/</th>\n",
       "      <th>1</th>\n",
       "      <th>8</th>\n",
       "      <th>97.105.19.61</th>\n",
       "    </tr>\n",
       "  </thead>\n",
       "  <tbody>\n",
       "    <tr>\n",
       "      <th>0</th>\n",
       "      <td>2018-01-26</td>\n",
       "      <td>09:56:02</td>\n",
       "      <td>java-ii</td>\n",
       "      <td>1</td>\n",
       "      <td>8.0</td>\n",
       "      <td>97.105.19.61</td>\n",
       "    </tr>\n",
       "    <tr>\n",
       "      <th>1</th>\n",
       "      <td>2018-01-26</td>\n",
       "      <td>09:56:05</td>\n",
       "      <td>java-ii/object-oriented-programming</td>\n",
       "      <td>1</td>\n",
       "      <td>8.0</td>\n",
       "      <td>97.105.19.61</td>\n",
       "    </tr>\n",
       "    <tr>\n",
       "      <th>2</th>\n",
       "      <td>2018-01-26</td>\n",
       "      <td>09:56:06</td>\n",
       "      <td>slides/object_oriented_programming</td>\n",
       "      <td>1</td>\n",
       "      <td>8.0</td>\n",
       "      <td>97.105.19.61</td>\n",
       "    </tr>\n",
       "    <tr>\n",
       "      <th>3</th>\n",
       "      <td>2018-01-26</td>\n",
       "      <td>09:56:24</td>\n",
       "      <td>javascript-i/conditionals</td>\n",
       "      <td>2</td>\n",
       "      <td>22.0</td>\n",
       "      <td>97.105.19.61</td>\n",
       "    </tr>\n",
       "    <tr>\n",
       "      <th>4</th>\n",
       "      <td>2018-01-26</td>\n",
       "      <td>09:56:41</td>\n",
       "      <td>javascript-i/loops</td>\n",
       "      <td>2</td>\n",
       "      <td>22.0</td>\n",
       "      <td>97.105.19.61</td>\n",
       "    </tr>\n",
       "  </tbody>\n",
       "</table>\n",
       "</div>"
      ],
      "text/plain": [
       "   2018-01-26  09:55:03                                    /  1     8  \\\n",
       "0  2018-01-26  09:56:02                              java-ii  1   8.0   \n",
       "1  2018-01-26  09:56:05  java-ii/object-oriented-programming  1   8.0   \n",
       "2  2018-01-26  09:56:06   slides/object_oriented_programming  1   8.0   \n",
       "3  2018-01-26  09:56:24            javascript-i/conditionals  2  22.0   \n",
       "4  2018-01-26  09:56:41                   javascript-i/loops  2  22.0   \n",
       "\n",
       "   97.105.19.61  \n",
       "0  97.105.19.61  \n",
       "1  97.105.19.61  \n",
       "2  97.105.19.61  \n",
       "3  97.105.19.61  \n",
       "4  97.105.19.61  "
      ]
     },
     "execution_count": 4,
     "metadata": {},
     "output_type": "execute_result"
    }
   ],
   "source": [
    "df.head()"
   ]
  },
  {
   "cell_type": "code",
   "execution_count": 5,
   "id": "0c554495-ac17-4ff1-9089-12a10c49d12e",
   "metadata": {},
   "outputs": [
    {
     "data": {
      "text/plain": [
       "(900222, 6)"
      ]
     },
     "execution_count": 5,
     "metadata": {},
     "output_type": "execute_result"
    }
   ],
   "source": [
    "df.shape"
   ]
  },
  {
   "cell_type": "markdown",
   "id": "8aca8c75-3fd9-49fa-9d3f-ebfef628fdf5",
   "metadata": {},
   "source": [
    "# 1. Which lesson appears to attract the most traffic consistently across cohorts (per program)?"
   ]
  },
  {
   "cell_type": "code",
   "execution_count": 6,
   "id": "67f2e451-377b-4514-87e7-f700833d2d87",
   "metadata": {},
   "outputs": [
    {
     "data": {
      "text/html": [
       "<div>\n",
       "<style scoped>\n",
       "    .dataframe tbody tr th:only-of-type {\n",
       "        vertical-align: middle;\n",
       "    }\n",
       "\n",
       "    .dataframe tbody tr th {\n",
       "        vertical-align: top;\n",
       "    }\n",
       "\n",
       "    .dataframe thead th {\n",
       "        text-align: right;\n",
       "    }\n",
       "</style>\n",
       "<table border=\"1\" class=\"dataframe\">\n",
       "  <thead>\n",
       "    <tr style=\"text-align: right;\">\n",
       "      <th></th>\n",
       "      <th>Date</th>\n",
       "      <th>09:55:03</th>\n",
       "      <th>Webpage_accessed</th>\n",
       "      <th>user_Id</th>\n",
       "      <th>Cohort_Id</th>\n",
       "      <th>IP_adress</th>\n",
       "    </tr>\n",
       "  </thead>\n",
       "  <tbody>\n",
       "    <tr>\n",
       "      <th>0</th>\n",
       "      <td>2018-01-26</td>\n",
       "      <td>09:56:02</td>\n",
       "      <td>java-ii</td>\n",
       "      <td>1</td>\n",
       "      <td>8.0</td>\n",
       "      <td>97.105.19.61</td>\n",
       "    </tr>\n",
       "    <tr>\n",
       "      <th>1</th>\n",
       "      <td>2018-01-26</td>\n",
       "      <td>09:56:05</td>\n",
       "      <td>java-ii/object-oriented-programming</td>\n",
       "      <td>1</td>\n",
       "      <td>8.0</td>\n",
       "      <td>97.105.19.61</td>\n",
       "    </tr>\n",
       "    <tr>\n",
       "      <th>2</th>\n",
       "      <td>2018-01-26</td>\n",
       "      <td>09:56:06</td>\n",
       "      <td>slides/object_oriented_programming</td>\n",
       "      <td>1</td>\n",
       "      <td>8.0</td>\n",
       "      <td>97.105.19.61</td>\n",
       "    </tr>\n",
       "    <tr>\n",
       "      <th>3</th>\n",
       "      <td>2018-01-26</td>\n",
       "      <td>09:56:24</td>\n",
       "      <td>javascript-i/conditionals</td>\n",
       "      <td>2</td>\n",
       "      <td>22.0</td>\n",
       "      <td>97.105.19.61</td>\n",
       "    </tr>\n",
       "    <tr>\n",
       "      <th>4</th>\n",
       "      <td>2018-01-26</td>\n",
       "      <td>09:56:41</td>\n",
       "      <td>javascript-i/loops</td>\n",
       "      <td>2</td>\n",
       "      <td>22.0</td>\n",
       "      <td>97.105.19.61</td>\n",
       "    </tr>\n",
       "  </tbody>\n",
       "</table>\n",
       "</div>"
      ],
      "text/plain": [
       "         Date  09:55:03                     Webpage_accessed  user_Id  \\\n",
       "0  2018-01-26  09:56:02                              java-ii        1   \n",
       "1  2018-01-26  09:56:05  java-ii/object-oriented-programming        1   \n",
       "2  2018-01-26  09:56:06   slides/object_oriented_programming        1   \n",
       "3  2018-01-26  09:56:24            javascript-i/conditionals        2   \n",
       "4  2018-01-26  09:56:41                   javascript-i/loops        2   \n",
       "\n",
       "   Cohort_Id     IP_adress  \n",
       "0        8.0  97.105.19.61  \n",
       "1        8.0  97.105.19.61  \n",
       "2        8.0  97.105.19.61  \n",
       "3       22.0  97.105.19.61  \n",
       "4       22.0  97.105.19.61  "
      ]
     },
     "execution_count": 6,
     "metadata": {},
     "output_type": "execute_result"
    }
   ],
   "source": [
    "df = df.rename(columns={'2018-01-26': 'Date', '09:55:03\t': 'timestamp', '/': 'Webpage_accessed', '1' : 'user_Id', '8' : 'Cohort_Id', '97.105.19.61' :'IP_adress'})\n",
    "df.head()"
   ]
  },
  {
   "cell_type": "code",
   "execution_count": 8,
   "id": "2fe4a5dd-be3c-4043-9be9-350e1c2748b6",
   "metadata": {},
   "outputs": [
    {
     "data": {
      "text/plain": [
       "IP_adress\n",
       "97.105.19.58       284579\n",
       "97.105.19.61        61661\n",
       "192.171.117.210      9515\n",
       "71.150.217.33        6791\n",
       "76.185.145.231       4754\n",
       "Name: count, dtype: int64"
      ]
     },
     "execution_count": 8,
     "metadata": {},
     "output_type": "execute_result"
    }
   ],
   "source": [
    "df.IP_adress.value_counts().head()"
   ]
  },
  {
   "cell_type": "code",
   "execution_count": null,
   "id": "5021f7b3-b6a5-4099-9b94-885cb6b6469f",
   "metadata": {},
   "outputs": [],
   "source": []
  }
 ],
 "metadata": {
  "kernelspec": {
   "display_name": "Python 3 (ipykernel)",
   "language": "python",
   "name": "python3"
  },
  "language_info": {
   "codemirror_mode": {
    "name": "ipython",
    "version": 3
   },
   "file_extension": ".py",
   "mimetype": "text/x-python",
   "name": "python",
   "nbconvert_exporter": "python",
   "pygments_lexer": "ipython3",
   "version": "3.10.12"
  }
 },
 "nbformat": 4,
 "nbformat_minor": 5
}
