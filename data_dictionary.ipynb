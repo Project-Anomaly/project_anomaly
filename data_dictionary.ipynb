{
 "cells": [
  {
   "cell_type": "markdown",
   "id": "22fccd22-8129-4834-8092-35d142ecf675",
   "metadata": {},
   "source": [
    "| Date Time        | Type| Description  |      \n",
    "| :---------------- | :------ | :---- | \n",
    "| Date | Date Time | This feature provides the exact day of access. |\n",
    "|  Time    |  Date Time   | This feature provides the exact moments of access and can be useful for time series analysis.|\n",
    "| Page   |  String    |  The specific webpage or resource asccessed.  | \n",
    "| User     |  Integer  |A numerical identifier assumed to be associated with a unique user.  |\n",
    "| Cohort |  Integer   | A numeric identifier. |\n",
    "| Ip | String | The IP address from which the access was made.|\n"
   ]
  }
 ],
 "metadata": {
  "kernelspec": {
   "display_name": "Python 3 (ipykernel)",
   "language": "python",
   "name": "python3"
  },
  "language_info": {
   "codemirror_mode": {
    "name": "ipython",
    "version": 3
   },
   "file_extension": ".py",
   "mimetype": "text/x-python",
   "name": "python",
   "nbconvert_exporter": "python",
   "pygments_lexer": "ipython3",
   "version": "3.10.12"
  }
 },
 "nbformat": 4,
 "nbformat_minor": 5
}
